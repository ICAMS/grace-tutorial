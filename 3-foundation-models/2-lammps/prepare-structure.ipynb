{
 "cells": [
  {
   "cell_type": "code",
   "execution_count": 1,
   "id": "4ccdee98",
   "metadata": {},
   "outputs": [
    {
     "name": "stdout",
     "output_type": "stream",
     "text": [
      "%pylab is deprecated, use %matplotlib inline and import the required libraries.\n",
      "Populating the interactive namespace from numpy and matplotlib\n"
     ]
    }
   ],
   "source": [
    "%pylab inline"
   ]
  },
  {
   "cell_type": "code",
   "execution_count": 2,
   "id": "786964c3",
   "metadata": {},
   "outputs": [],
   "source": [
    "from ase.build import fcc111, molecule, fcc100, fcc110\n",
    "from ase.visualize import view\n",
    "from ase import Atoms\n",
    "from ase.io import write"
   ]
  },
  {
   "cell_type": "code",
   "execution_count": 3,
   "id": "c66a865d",
   "metadata": {},
   "outputs": [],
   "source": [
    "from ase.optimize import BFGS, FIRE\n",
    "from ase.constraints import ExpCellFilter"
   ]
  },
  {
   "cell_type": "markdown",
   "id": "38a6414c",
   "metadata": {},
   "source": [
    "# Pt surface"
   ]
  },
  {
   "cell_type": "code",
   "execution_count": 4,
   "id": "086a2a1b",
   "metadata": {},
   "outputs": [],
   "source": [
    "el='Pt'"
   ]
  },
  {
   "cell_type": "code",
   "execution_count": 5,
   "id": "01eb814f",
   "metadata": {},
   "outputs": [],
   "source": [
    "# Build an FCC (100) surface\n",
    "surface = fcc100(el, size=(4, 4, 6), vacuum=20.0)"
   ]
  },
  {
   "cell_type": "code",
   "execution_count": 6,
   "id": "30b5bc11",
   "metadata": {},
   "outputs": [],
   "source": [
    "# Create an O2 molecule\n",
    "o2 = molecule('O2')\n",
    "o2.rotate([0,0,1],[1,0,0])\n",
    "\n",
    "z_max=max(surface.positions[:,2])\n",
    "\n",
    "# Adjust the position of the O2 molecule above the surface\n",
    "o2.translate([surface.get_cell()[0, 0] / 2, surface.get_cell()[1, 1] / 2, z_max+2.5])"
   ]
  },
  {
   "cell_type": "code",
   "execution_count": 7,
   "id": "d7ebe85f",
   "metadata": {},
   "outputs": [],
   "source": [
    "# Combine the surface and the O2 molecule into a single system\n",
    "system = surface + o2\n",
    "\n",
    "# Visualize the system (optional)\n",
    "# view(system)"
   ]
  },
  {
   "cell_type": "code",
   "execution_count": 8,
   "id": "bdcfa7fb",
   "metadata": {},
   "outputs": [
    {
     "data": {
      "text/plain": [
       "'Pt_surface-fcc-slab_and_O2.lammps-data'"
      ]
     },
     "execution_count": 8,
     "metadata": {},
     "output_type": "execute_result"
    }
   ],
   "source": [
    "fname=f\"{el}_surface-fcc-slab_and_O2.lammps-data\"\n",
    "fname"
   ]
  },
  {
   "cell_type": "code",
   "execution_count": 9,
   "id": "ecd8a45e",
   "metadata": {},
   "outputs": [
    {
     "data": {
      "text/plain": [
       "['Pt', 'O']"
      ]
     },
     "execution_count": 9,
     "metadata": {},
     "output_type": "execute_result"
    }
   ],
   "source": [
    "specorder=[el,'O']\n",
    "specorder"
   ]
  },
  {
   "cell_type": "code",
   "execution_count": 10,
   "id": "55e5a698",
   "metadata": {},
   "outputs": [],
   "source": [
    "write(fname, system, specorder=specorder)"
   ]
  },
  {
   "cell_type": "markdown",
   "id": "7fc561b9",
   "metadata": {},
   "source": [
    "# Ethanol water"
   ]
  },
  {
   "cell_type": "code",
   "execution_count": 4,
   "id": "4061c927",
   "metadata": {},
   "outputs": [],
   "source": [
    "from ase.build import molecule\n",
    "from ase import Atoms"
   ]
  },
  {
   "cell_type": "code",
   "execution_count": 5,
   "id": "e7fbbcf4",
   "metadata": {},
   "outputs": [],
   "source": [
    "from matscipy.neighbours import neighbour_list"
   ]
  },
  {
   "cell_type": "code",
   "execution_count": 101,
   "id": "81ff08d6",
   "metadata": {},
   "outputs": [],
   "source": [
    "water=molecule(\"H2O\")"
   ]
  },
  {
   "cell_type": "code",
   "execution_count": 102,
   "id": "221d2d6a",
   "metadata": {},
   "outputs": [
    {
     "data": {
      "text/plain": [
       "['O', 'H', 'H']"
      ]
     },
     "execution_count": 102,
     "metadata": {},
     "output_type": "execute_result"
    }
   ],
   "source": [
    "water.get_chemical_symbols()"
   ]
  },
  {
   "cell_type": "code",
   "execution_count": 85,
   "id": "e632b709",
   "metadata": {},
   "outputs": [],
   "source": [
    "water.set_chemical_symbols(['Li','He','He'])"
   ]
  },
  {
   "cell_type": "code",
   "execution_count": 103,
   "id": "cea38011",
   "metadata": {},
   "outputs": [],
   "source": [
    "ethanol=molecule(\"CH3CH2OH\")"
   ]
  },
  {
   "cell_type": "code",
   "execution_count": null,
   "id": "78b4be8e",
   "metadata": {},
   "outputs": [],
   "source": []
  },
  {
   "cell_type": "code",
   "execution_count": 104,
   "id": "fb635018",
   "metadata": {},
   "outputs": [],
   "source": [
    "def insert_molecules(tot_cell, mol, N_mol, MIN_THRESHOLD ):\n",
    "    \n",
    "    for _ in range(N_mol):\n",
    "\n",
    "        while True:\n",
    "            new_mol=mol.copy()\n",
    "            new_mol.rotate([0,0,1], np.random.randn(3))\n",
    "\n",
    "            rnd_shift=np.random.rand(3)*np.diag(tot_cell.cell)\n",
    "\n",
    "            new_mol.positions+=rnd_shift\n",
    "\n",
    "            new_tot_cell = tot_cell+new_mol\n",
    "\n",
    "            min_dist_list=neighbour_list(\"ijd\", new_tot_cell, cutoff=3.0)\n",
    "            ii,jj,dd=min_dist_list\n",
    "\n",
    "            new_indices = np.arange(len(new_tot_cell))[-len(new_mol):]\n",
    "            old_indices = np.arange(len(new_tot_cell))[:-len(new_mol)]\n",
    "\n",
    "            mask=np.isin(ii, new_indices) & np.isin(jj, old_indices)\n",
    "\n",
    "            if np.any(mask):\n",
    "                min_dist = np.min(dd[mask])\n",
    "            else:\n",
    "                min_dist = 100\n",
    "\n",
    "\n",
    "            if min_dist >= MIN_THRESHOLD:\n",
    "                break\n",
    "\n",
    "        tot_cell = new_tot_cell                \n",
    "        print(f\"Current structure: num.at={len(tot_cell)}, min_dist={min_dist}, overall min = {np.min(dd)}\")        \n",
    "    return tot_cell\n"
   ]
  },
  {
   "cell_type": "code",
   "execution_count": 105,
   "id": "0e34122b",
   "metadata": {},
   "outputs": [],
   "source": [
    "MIN_THRESHOLD=2"
   ]
  },
  {
   "cell_type": "code",
   "execution_count": 106,
   "id": "3f143183",
   "metadata": {},
   "outputs": [],
   "source": [
    "tot_cell = ethanol.copy()\n",
    "tot_cell.set_cell([15,15,15])\n",
    "tot_cell.set_pbc(True)"
   ]
  },
  {
   "cell_type": "code",
   "execution_count": 107,
   "id": "aafbc391",
   "metadata": {},
   "outputs": [
    {
     "name": "stdout",
     "output_type": "stream",
     "text": [
      "Current structure: num.at=18, min_dist=100, overall min = 0.9713238910044371\n",
      "Current structure: num.at=27, min_dist=100, overall min = 0.9713238910044371\n",
      "Current structure: num.at=36, min_dist=100, overall min = 0.9713238910044366\n",
      "Current structure: num.at=45, min_dist=100, overall min = 0.9713238910044366\n",
      "Current structure: num.at=54, min_dist=2.870153949376819, overall min = 0.9713238910044366\n",
      "Current structure: num.at=63, min_dist=2.4460366606537103, overall min = 0.9713238910044366\n",
      "Current structure: num.at=72, min_dist=2.0641927625751766, overall min = 0.9713238910044366\n",
      "Current structure: num.at=81, min_dist=2.619058280487286, overall min = 0.9713238910044366\n",
      "Current structure: num.at=90, min_dist=2.1403359825566306, overall min = 0.9713238910044366\n",
      "Current structure: num.at=99, min_dist=2.393985364396419, overall min = 0.9713238910044366\n"
     ]
    }
   ],
   "source": [
    "tot_cell_1=insert_molecules(tot_cell, ethanol, 10, MIN_THRESHOLD=MIN_THRESHOLD)"
   ]
  },
  {
   "cell_type": "code",
   "execution_count": 108,
   "id": "3120bf60",
   "metadata": {},
   "outputs": [],
   "source": [
    "#view(tot_cell_1)"
   ]
  },
  {
   "cell_type": "code",
   "execution_count": 109,
   "id": "652efbe4",
   "metadata": {},
   "outputs": [
    {
     "name": "stdout",
     "output_type": "stream",
     "text": [
      "Current structure: num.at=102, min_dist=2.6855983909670234, overall min = 0.9685650182625838\n",
      "Current structure: num.at=105, min_dist=2.471979815213367, overall min = 0.9685650182625838\n",
      "Current structure: num.at=108, min_dist=100, overall min = 0.9685650182625838\n",
      "Current structure: num.at=111, min_dist=2.258829490461681, overall min = 0.9685650182625838\n",
      "Current structure: num.at=114, min_dist=2.970866218070555, overall min = 0.9685650182625838\n",
      "Current structure: num.at=117, min_dist=2.0618004699587105, overall min = 0.9685650182625838\n",
      "Current structure: num.at=120, min_dist=2.4270232161632412, overall min = 0.9685650182625838\n",
      "Current structure: num.at=123, min_dist=100, overall min = 0.9685650182625838\n",
      "Current structure: num.at=126, min_dist=2.161313361539273, overall min = 0.9685650182625838\n",
      "Current structure: num.at=129, min_dist=2.3874407615156232, overall min = 0.9685650182625837\n",
      "Current structure: num.at=132, min_dist=2.1038305409104936, overall min = 0.9685650182625837\n",
      "Current structure: num.at=135, min_dist=100, overall min = 0.9685650182625837\n",
      "Current structure: num.at=138, min_dist=2.39332148475088, overall min = 0.9685650182625837\n",
      "Current structure: num.at=141, min_dist=100, overall min = 0.9685650182625837\n",
      "Current structure: num.at=144, min_dist=2.151835658206035, overall min = 0.9685650182625837\n",
      "Current structure: num.at=147, min_dist=2.7339437103865936, overall min = 0.9685650182625837\n",
      "Current structure: num.at=150, min_dist=2.9640147220601856, overall min = 0.9685650182625831\n",
      "Current structure: num.at=153, min_dist=2.9405632115934854, overall min = 0.9685650182625831\n",
      "Current structure: num.at=156, min_dist=2.0706908900332803, overall min = 0.9685650182625831\n",
      "Current structure: num.at=159, min_dist=2.186283348466286, overall min = 0.9685650182625831\n",
      "Current structure: num.at=162, min_dist=2.1124231179727953, overall min = 0.9685650182625831\n",
      "Current structure: num.at=165, min_dist=2.098830181259656, overall min = 0.9685650182625831\n",
      "Current structure: num.at=168, min_dist=2.172744995227112, overall min = 0.9685650182625831\n",
      "Current structure: num.at=171, min_dist=2.0663090239561197, overall min = 0.9685650182625831\n",
      "Current structure: num.at=174, min_dist=2.3685556246423927, overall min = 0.9685650182625831\n",
      "Current structure: num.at=177, min_dist=2.6014270359153113, overall min = 0.9685650182625831\n",
      "Current structure: num.at=180, min_dist=2.0489174819915403, overall min = 0.9685650182625831\n",
      "Current structure: num.at=183, min_dist=2.3787403683771937, overall min = 0.9685650182625831\n",
      "Current structure: num.at=186, min_dist=2.008147502715687, overall min = 0.9685650182625831\n",
      "Current structure: num.at=189, min_dist=2.092015837650398, overall min = 0.9685650182625831\n",
      "Current structure: num.at=192, min_dist=2.280848526055569, overall min = 0.9685650182625831\n",
      "Current structure: num.at=195, min_dist=2.423032694220239, overall min = 0.9685650182625831\n",
      "Current structure: num.at=198, min_dist=2.498993681456039, overall min = 0.9685650182625831\n",
      "Current structure: num.at=201, min_dist=2.0652066397460986, overall min = 0.9685650182625831\n",
      "Current structure: num.at=204, min_dist=2.0355961940963803, overall min = 0.9685650182625831\n",
      "Current structure: num.at=207, min_dist=2.128565211922491, overall min = 0.9685650182625831\n",
      "Current structure: num.at=210, min_dist=2.203073137967786, overall min = 0.9685650182625831\n",
      "Current structure: num.at=213, min_dist=2.188480708435613, overall min = 0.9685650182625831\n",
      "Current structure: num.at=216, min_dist=2.0838402445268747, overall min = 0.9685650182625831\n",
      "Current structure: num.at=219, min_dist=2.3825195509810118, overall min = 0.9685650182625831\n",
      "Current structure: num.at=222, min_dist=2.0977428496182906, overall min = 0.9685650182625831\n",
      "Current structure: num.at=225, min_dist=2.215725615768122, overall min = 0.9685650182625831\n",
      "Current structure: num.at=228, min_dist=2.0398206311223253, overall min = 0.9685650182625831\n",
      "Current structure: num.at=231, min_dist=2.0881504073384973, overall min = 0.9685650182625831\n",
      "Current structure: num.at=234, min_dist=2.2976347968195476, overall min = 0.9685650182625831\n",
      "Current structure: num.at=237, min_dist=2.0122681851319886, overall min = 0.9685650182625831\n",
      "Current structure: num.at=240, min_dist=2.172869828344643, overall min = 0.9685650182625831\n",
      "Current structure: num.at=243, min_dist=2.0376205225382984, overall min = 0.9685650182625831\n",
      "Current structure: num.at=246, min_dist=2.267970785834163, overall min = 0.9685650182625831\n"
     ]
    }
   ],
   "source": [
    "tot_cell_2=insert_molecules(tot_cell_1, water, 49, MIN_THRESHOLD=MIN_THRESHOLD)"
   ]
  },
  {
   "cell_type": "code",
   "execution_count": 110,
   "id": "90a21369",
   "metadata": {},
   "outputs": [],
   "source": [
    "#view(tot_cell_2)"
   ]
  },
  {
   "cell_type": "code",
   "execution_count": 111,
   "id": "ed893357",
   "metadata": {},
   "outputs": [],
   "source": [
    "conv_factor=1.6605402e-27 / 1e-30# amu/A3 -> kg/m3"
   ]
  },
  {
   "cell_type": "code",
   "execution_count": 112,
   "id": "e56f47d8",
   "metadata": {},
   "outputs": [
    {
     "data": {
      "text/plain": [
       "683.6475984174225"
      ]
     },
     "execution_count": 112,
     "metadata": {},
     "output_type": "execute_result"
    }
   ],
   "source": [
    "sum(tot_cell_2.get_masses())/sum(tot_cell_2.get_volume())*conv_factor"
   ]
  },
  {
   "cell_type": "code",
   "execution_count": 113,
   "id": "6e8fcf99",
   "metadata": {},
   "outputs": [
    {
     "data": {
      "text/plain": [
       "246"
      ]
     },
     "execution_count": 113,
     "metadata": {},
     "output_type": "execute_result"
    }
   ],
   "source": [
    "len(tot_cell_2)"
   ]
  },
  {
   "cell_type": "code",
   "execution_count": 115,
   "id": "2edb43d2",
   "metadata": {},
   "outputs": [],
   "source": [
    "write(\"2-ethanol-water/ethanol-water.lammps-data\", tot_cell_2, format='lammps-data', specorder=['C','H','O'])"
   ]
  },
  {
   "cell_type": "code",
   "execution_count": 116,
   "id": "c764e0dc",
   "metadata": {},
   "outputs": [],
   "source": [
    "min_dist_list=neighbour_list(\"ijd\", tot_cell_1,cutoff=3.0)"
   ]
  },
  {
   "cell_type": "code",
   "execution_count": 117,
   "id": "6c8f53b2",
   "metadata": {},
   "outputs": [
    {
     "data": {
      "text/plain": [
       "0.9713238910044366"
      ]
     },
     "execution_count": 117,
     "metadata": {},
     "output_type": "execute_result"
    }
   ],
   "source": [
    "np.min(min_dist_list[2])"
   ]
  },
  {
   "cell_type": "code",
   "execution_count": null,
   "id": "50028913",
   "metadata": {},
   "outputs": [],
   "source": []
  }
 ],
 "metadata": {
  "kernelspec": {
   "display_name": "fast-tp2",
   "language": "python",
   "name": "fast-tp2"
  },
  "language_info": {
   "codemirror_mode": {
    "name": "ipython",
    "version": 3
   },
   "file_extension": ".py",
   "mimetype": "text/x-python",
   "name": "python",
   "nbconvert_exporter": "python",
   "pygments_lexer": "ipython3",
   "version": "3.10.13"
  }
 },
 "nbformat": 4,
 "nbformat_minor": 5
}
