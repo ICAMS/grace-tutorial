{
 "cells": [
  {
   "cell_type": "code",
   "execution_count": 1,
   "id": "4ccdee98",
   "metadata": {},
   "outputs": [
    {
     "name": "stdout",
     "output_type": "stream",
     "text": [
      "%pylab is deprecated, use %matplotlib inline and import the required libraries.\n",
      "Populating the interactive namespace from numpy and matplotlib\n"
     ]
    }
   ],
   "source": [
    "%pylab inline"
   ]
  },
  {
   "cell_type": "code",
   "execution_count": 2,
   "id": "786964c3",
   "metadata": {},
   "outputs": [],
   "source": [
    "from ase.build import fcc111, molecule, fcc100, fcc110\n",
    "from ase.visualize import view\n",
    "from ase import Atoms\n",
    "from ase.io import write"
   ]
  },
  {
   "cell_type": "code",
   "execution_count": 3,
   "id": "c66a865d",
   "metadata": {},
   "outputs": [],
   "source": [
    "from ase.optimize import BFGS, FIRE\n",
    "from ase.constraints import ExpCellFilter"
   ]
  },
  {
   "cell_type": "markdown",
   "id": "38a6414c",
   "metadata": {},
   "source": [
    "# Pt surface"
   ]
  },
  {
   "cell_type": "code",
   "execution_count": 4,
   "id": "086a2a1b",
   "metadata": {},
   "outputs": [],
   "source": [
    "el='Pt'"
   ]
  },
  {
   "cell_type": "code",
   "execution_count": 5,
   "id": "01eb814f",
   "metadata": {},
   "outputs": [],
   "source": [
    "# Build an FCC (100) surface\n",
    "surface = fcc100(el, size=(4, 4, 6), vacuum=20.0)"
   ]
  },
  {
   "cell_type": "code",
   "execution_count": 6,
   "id": "30b5bc11",
   "metadata": {},
   "outputs": [],
   "source": [
    "# Create an O2 molecule\n",
    "o2 = molecule('O2')\n",
    "o2.rotate([0,0,1],[1,0,0])\n",
    "\n",
    "z_max=max(surface.positions[:,2])\n",
    "\n",
    "# Adjust the position of the O2 molecule above the surface\n",
    "o2.translate([surface.get_cell()[0, 0] / 2, surface.get_cell()[1, 1] / 2, z_max+2.5])"
   ]
  },
  {
   "cell_type": "code",
   "execution_count": 7,
   "id": "d7ebe85f",
   "metadata": {},
   "outputs": [],
   "source": [
    "# Combine the surface and the O2 molecule into a single system\n",
    "system = surface + o2\n",
    "\n",
    "# Visualize the system (optional)\n",
    "# view(system)"
   ]
  },
  {
   "cell_type": "code",
   "execution_count": 8,
   "id": "bdcfa7fb",
   "metadata": {},
   "outputs": [
    {
     "data": {
      "text/plain": [
       "'Pt_surface-fcc-slab_and_O2.lammps-data'"
      ]
     },
     "execution_count": 8,
     "metadata": {},
     "output_type": "execute_result"
    }
   ],
   "source": [
    "fname=f\"{el}_surface-fcc-slab_and_O2.lammps-data\"\n",
    "fname"
   ]
  },
  {
   "cell_type": "code",
   "execution_count": 9,
   "id": "ecd8a45e",
   "metadata": {},
   "outputs": [
    {
     "data": {
      "text/plain": [
       "['Pt', 'O']"
      ]
     },
     "execution_count": 9,
     "metadata": {},
     "output_type": "execute_result"
    }
   ],
   "source": [
    "specorder=[el,'O']\n",
    "specorder"
   ]
  },
  {
   "cell_type": "code",
   "execution_count": 10,
   "id": "55e5a698",
   "metadata": {},
   "outputs": [],
   "source": [
    "write(fname, system, specorder=specorder)"
   ]
  },
  {
   "cell_type": "markdown",
   "id": "7fc561b9",
   "metadata": {},
   "source": [
    "# Ethanol water"
   ]
  },
  {
   "cell_type": "code",
   "execution_count": 4,
   "id": "4061c927",
   "metadata": {},
   "outputs": [],
   "source": [
    "from ase.build import molecule\n",
    "from ase import Atoms"
   ]
  },
  {
   "cell_type": "code",
   "execution_count": 5,
   "id": "e7fbbcf4",
   "metadata": {},
   "outputs": [],
   "source": [
    "from matscipy.neighbours import neighbour_list"
   ]
  },
  {
   "cell_type": "code",
   "execution_count": 82,
   "id": "81ff08d6",
   "metadata": {},
   "outputs": [],
   "source": [
    "water=molecule(\"H2O\")"
   ]
  },
  {
   "cell_type": "code",
   "execution_count": 83,
   "id": "221d2d6a",
   "metadata": {},
   "outputs": [
    {
     "data": {
      "text/plain": [
       "['O', 'H', 'H']"
      ]
     },
     "execution_count": 83,
     "metadata": {},
     "output_type": "execute_result"
    }
   ],
   "source": [
    "water.get_chemical_symbols()"
   ]
  },
  {
   "cell_type": "code",
   "execution_count": 85,
   "id": "e632b709",
   "metadata": {},
   "outputs": [],
   "source": [
    "water.set_chemical_symbols(['Li','He','He'])"
   ]
  },
  {
   "cell_type": "code",
   "execution_count": 86,
   "id": "cea38011",
   "metadata": {},
   "outputs": [],
   "source": [
    "ethanol=molecule(\"CH3CH2OH\")"
   ]
  },
  {
   "cell_type": "code",
   "execution_count": null,
   "id": "78b4be8e",
   "metadata": {},
   "outputs": [],
   "source": []
  },
  {
   "cell_type": "code",
   "execution_count": 87,
   "id": "fb635018",
   "metadata": {},
   "outputs": [],
   "source": [
    "def insert_molecules(tot_cell, mol, N_mol, MIN_THRESHOLD ):\n",
    "    \n",
    "    for _ in range(N_mol):\n",
    "\n",
    "        while True:\n",
    "            new_mol=mol.copy()\n",
    "            new_mol.rotate([0,0,1], np.random.randn(3))\n",
    "\n",
    "            rnd_shift=np.random.rand(3)*np.diag(tot_cell.cell)\n",
    "\n",
    "            new_mol.positions+=rnd_shift\n",
    "\n",
    "            new_tot_cell = tot_cell+new_mol\n",
    "\n",
    "            min_dist_list=neighbour_list(\"ijd\", new_tot_cell, cutoff=3.0)\n",
    "            ii,jj,dd=min_dist_list\n",
    "\n",
    "            new_indices = np.arange(len(new_tot_cell))[-len(new_mol):]\n",
    "            old_indices = np.arange(len(new_tot_cell))[:-len(new_mol)]\n",
    "#             print(f\"{new_indices=}\")\n",
    "#             print(f\"{old_indices=}\")\n",
    "\n",
    "            mask=np.isin(ii, new_indices) & np.isin(jj, old_indices)\n",
    "\n",
    "            if np.any(mask):\n",
    "                min_dist = np.min(dd[mask])\n",
    "            else:\n",
    "                min_dist = 100\n",
    "\n",
    "\n",
    "            if min_dist >= MIN_THRESHOLD:\n",
    "                break\n",
    "\n",
    "        tot_cell = new_tot_cell                \n",
    "        print(f\"Current structure: num.at={len(tot_cell)}, min_dist={min_dist}, overall min = {np.min(dd)}\")        \n",
    "    return tot_cell\n"
   ]
  },
  {
   "cell_type": "code",
   "execution_count": 88,
   "id": "0e34122b",
   "metadata": {},
   "outputs": [],
   "source": [
    "MIN_THRESHOLD=2"
   ]
  },
  {
   "cell_type": "code",
   "execution_count": 89,
   "id": "3f143183",
   "metadata": {},
   "outputs": [],
   "source": [
    "tot_cell = ethanol.copy()\n",
    "tot_cell.set_cell([15,15,15])\n",
    "tot_cell.set_pbc(True)"
   ]
  },
  {
   "cell_type": "code",
   "execution_count": 90,
   "id": "aafbc391",
   "metadata": {},
   "outputs": [
    {
     "name": "stdout",
     "output_type": "stream",
     "text": [
      "Current structure: num.at=18, min_dist=100, overall min = 0.971323891004436\n",
      "Current structure: num.at=27, min_dist=100, overall min = 0.971323891004436\n",
      "Current structure: num.at=36, min_dist=2.1269255479101425, overall min = 0.971323891004436\n",
      "Current structure: num.at=45, min_dist=2.4383368473708695, overall min = 0.971323891004436\n",
      "Current structure: num.at=54, min_dist=2.7246965298040458, overall min = 0.971323891004436\n",
      "Current structure: num.at=63, min_dist=100, overall min = 0.971323891004436\n",
      "Current structure: num.at=72, min_dist=100, overall min = 0.971323891004436\n",
      "Current structure: num.at=81, min_dist=100, overall min = 0.971323891004436\n",
      "Current structure: num.at=90, min_dist=2.370196415390373, overall min = 0.971323891004436\n",
      "Current structure: num.at=99, min_dist=2.356404020862197, overall min = 0.971323891004436\n"
     ]
    }
   ],
   "source": [
    "tot_cell_1=insert_molecules(tot_cell, ethanol, 10, MIN_THRESHOLD=MIN_THRESHOLD)"
   ]
  },
  {
   "cell_type": "code",
   "execution_count": 100,
   "id": "3120bf60",
   "metadata": {},
   "outputs": [],
   "source": [
    "#view(tot_cell_1)"
   ]
  },
  {
   "cell_type": "code",
   "execution_count": 92,
   "id": "652efbe4",
   "metadata": {},
   "outputs": [
    {
     "name": "stdout",
     "output_type": "stream",
     "text": [
      "Current structure: num.at=102, min_dist=100, overall min = 0.9685650182625833\n",
      "Current structure: num.at=105, min_dist=100, overall min = 0.9685650182625833\n",
      "Current structure: num.at=108, min_dist=2.2574076598579533, overall min = 0.9685650182625833\n",
      "Current structure: num.at=111, min_dist=2.1208914883685273, overall min = 0.9685650182625833\n",
      "Current structure: num.at=114, min_dist=2.0260809184172266, overall min = 0.9685650182625833\n",
      "Current structure: num.at=117, min_dist=2.436853715342068, overall min = 0.9685650182625833\n",
      "Current structure: num.at=120, min_dist=100, overall min = 0.9685650182625827\n",
      "Current structure: num.at=123, min_dist=100, overall min = 0.9685650182625827\n",
      "Current structure: num.at=126, min_dist=2.041145053660059, overall min = 0.9685650182625827\n",
      "Current structure: num.at=129, min_dist=2.985272215446766, overall min = 0.9685650182625827\n",
      "Current structure: num.at=132, min_dist=2.7321382828959506, overall min = 0.9685650182625827\n",
      "Current structure: num.at=135, min_dist=2.44028314231429, overall min = 0.9685650182625827\n",
      "Current structure: num.at=138, min_dist=2.326174913383755, overall min = 0.9685650182625827\n",
      "Current structure: num.at=141, min_dist=2.213219916410937, overall min = 0.9685650182625827\n",
      "Current structure: num.at=144, min_dist=2.5171908779995213, overall min = 0.9685650182625827\n",
      "Current structure: num.at=147, min_dist=2.8945662609851275, overall min = 0.9685650182625827\n",
      "Current structure: num.at=150, min_dist=2.53312545831155, overall min = 0.9685650182625827\n",
      "Current structure: num.at=153, min_dist=2.292077516646763, overall min = 0.9685650182625827\n",
      "Current structure: num.at=156, min_dist=2.2917932744939757, overall min = 0.9685650182625827\n",
      "Current structure: num.at=159, min_dist=2.7984175878168203, overall min = 0.9685650182625827\n",
      "Current structure: num.at=162, min_dist=2.1304445903058173, overall min = 0.9685650182625827\n",
      "Current structure: num.at=165, min_dist=2.572436911467429, overall min = 0.9685650182625827\n",
      "Current structure: num.at=168, min_dist=2.100182233950541, overall min = 0.9685650182625827\n",
      "Current structure: num.at=171, min_dist=2.6326308558709104, overall min = 0.9685650182625827\n",
      "Current structure: num.at=174, min_dist=2.0367239875903667, overall min = 0.9685650182625825\n",
      "Current structure: num.at=177, min_dist=2.3315911355102132, overall min = 0.9685650182625825\n",
      "Current structure: num.at=180, min_dist=2.179920515183101, overall min = 0.9685650182625825\n",
      "Current structure: num.at=183, min_dist=2.6588547053993814, overall min = 0.9685650182625825\n",
      "Current structure: num.at=186, min_dist=2.2026214686988586, overall min = 0.9685650182625825\n",
      "Current structure: num.at=189, min_dist=2.1857859195801397, overall min = 0.9685650182625825\n",
      "Current structure: num.at=192, min_dist=2.4972149621526776, overall min = 0.9685650182625825\n",
      "Current structure: num.at=195, min_dist=2.1430012341627007, overall min = 0.9685650182625825\n",
      "Current structure: num.at=198, min_dist=2.301930104371797, overall min = 0.9685650182625825\n",
      "Current structure: num.at=201, min_dist=2.055088158331431, overall min = 0.9685650182625825\n",
      "Current structure: num.at=204, min_dist=2.086086587697056, overall min = 0.9685650182625825\n",
      "Current structure: num.at=207, min_dist=2.1809404242074377, overall min = 0.9685650182625825\n",
      "Current structure: num.at=210, min_dist=2.0711323041410292, overall min = 0.9685650182625825\n",
      "Current structure: num.at=213, min_dist=2.4379466272519967, overall min = 0.9685650182625825\n",
      "Current structure: num.at=216, min_dist=2.034140051796221, overall min = 0.9685650182625825\n",
      "Current structure: num.at=219, min_dist=2.180103832567872, overall min = 0.9685650182625825\n",
      "Current structure: num.at=222, min_dist=2.1400952180810378, overall min = 0.9685650182625825\n",
      "Current structure: num.at=225, min_dist=2.1812618463417097, overall min = 0.9685650182625825\n",
      "Current structure: num.at=228, min_dist=2.517142955264822, overall min = 0.9685650182625825\n",
      "Current structure: num.at=231, min_dist=2.3068156989264015, overall min = 0.9685650182625825\n",
      "Current structure: num.at=234, min_dist=2.0125542116130646, overall min = 0.9685650182625825\n",
      "Current structure: num.at=237, min_dist=2.1388159849737516, overall min = 0.9685650182625825\n",
      "Current structure: num.at=240, min_dist=2.0639469427801322, overall min = 0.9685650182625825\n",
      "Current structure: num.at=243, min_dist=2.0942006371693473, overall min = 0.9685650182625825\n",
      "Current structure: num.at=246, min_dist=2.127907180594189, overall min = 0.9685650182625825\n"
     ]
    }
   ],
   "source": [
    "tot_cell_2=insert_molecules(tot_cell_1, water, 49, MIN_THRESHOLD=MIN_THRESHOLD)"
   ]
  },
  {
   "cell_type": "code",
   "execution_count": 93,
   "id": "90a21369",
   "metadata": {},
   "outputs": [
    {
     "data": {
      "text/plain": [
       "<Popen: returncode: None args: ['/fscratch/conda/tp2/bin/python', '-m', 'ase...>"
      ]
     },
     "execution_count": 93,
     "metadata": {},
     "output_type": "execute_result"
    }
   ],
   "source": [
    "#view(tot_cell_2)"
   ]
  },
  {
   "cell_type": "code",
   "execution_count": 94,
   "id": "ed893357",
   "metadata": {},
   "outputs": [],
   "source": [
    "conv_factor=1.6605402e-27 / 1e-30# amu/A3 -> kg/m3"
   ]
  },
  {
   "cell_type": "code",
   "execution_count": 95,
   "id": "e56f47d8",
   "metadata": {},
   "outputs": [
    {
     "data": {
      "text/plain": [
       "609.6391647800416"
      ]
     },
     "execution_count": 95,
     "metadata": {},
     "output_type": "execute_result"
    }
   ],
   "source": [
    "sum(tot_cell_2.get_masses())/sum(tot_cell_2.get_volume())*conv_factor"
   ]
  },
  {
   "cell_type": "code",
   "execution_count": 96,
   "id": "6e8fcf99",
   "metadata": {},
   "outputs": [
    {
     "data": {
      "text/plain": [
       "246"
      ]
     },
     "execution_count": 96,
     "metadata": {},
     "output_type": "execute_result"
    }
   ],
   "source": [
    "len(tot_cell_2)"
   ]
  },
  {
   "cell_type": "code",
   "execution_count": 97,
   "id": "08133e71",
   "metadata": {},
   "outputs": [],
   "source": [
    "write(\"2-ethanol-water/ethanol-water.lammps-data\", tot_cell_2, format='lammps-data', specorder=['C','H','O','He', 'Li'])"
   ]
  },
  {
   "cell_type": "code",
   "execution_count": 98,
   "id": "c764e0dc",
   "metadata": {},
   "outputs": [],
   "source": [
    "min_dist_list=neighbour_list(\"ijd\", tot_cell_1,cutoff=3.0)"
   ]
  },
  {
   "cell_type": "code",
   "execution_count": 99,
   "id": "6c8f53b2",
   "metadata": {},
   "outputs": [
    {
     "data": {
      "text/plain": [
       "0.971323891004436"
      ]
     },
     "execution_count": 99,
     "metadata": {},
     "output_type": "execute_result"
    }
   ],
   "source": [
    "np.min(min_dist_list[2])"
   ]
  },
  {
   "cell_type": "code",
   "execution_count": null,
   "id": "50028913",
   "metadata": {},
   "outputs": [],
   "source": []
  }
 ],
 "metadata": {
  "kernelspec": {
   "display_name": "fast-tp2",
   "language": "python",
   "name": "fast-tp2"
  },
  "language_info": {
   "codemirror_mode": {
    "name": "ipython",
    "version": 3
   },
   "file_extension": ".py",
   "mimetype": "text/x-python",
   "name": "python",
   "nbconvert_exporter": "python",
   "pygments_lexer": "ipython3",
   "version": "3.10.13"
  }
 },
 "nbformat": 4,
 "nbformat_minor": 5
}
