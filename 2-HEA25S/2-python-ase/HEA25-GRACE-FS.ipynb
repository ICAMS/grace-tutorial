{
 "cells": [
  {
   "cell_type": "code",
   "execution_count": 1,
   "id": "dd7a011a",
   "metadata": {},
   "outputs": [
    {
     "name": "stdout",
     "output_type": "stream",
     "text": [
      "%pylab is deprecated, use %matplotlib inline and import the required libraries.\n",
      "Populating the interactive namespace from numpy and matplotlib\n"
     ]
    }
   ],
   "source": [
    "%pylab inline"
   ]
  },
  {
   "cell_type": "code",
   "execution_count": 2,
   "id": "0a00bc6e",
   "metadata": {},
   "outputs": [],
   "source": [
    "from ase.build import bulk, fcc111"
   ]
  },
  {
   "cell_type": "code",
   "execution_count": 3,
   "id": "6501b118",
   "metadata": {},
   "outputs": [],
   "source": [
    "from ase.optimize import BFGS, FIRE\n",
    "from ase.constraints import ExpCellFilter"
   ]
  },
  {
   "cell_type": "code",
   "execution_count": 4,
   "id": "3e1e3b76",
   "metadata": {},
   "outputs": [],
   "source": [
    "from ase.visualize import view"
   ]
  },
  {
   "cell_type": "markdown",
   "id": "6c14dcfa",
   "metadata": {},
   "source": [
    "# GPU: Tensorpotential calculator"
   ]
  },
  {
   "cell_type": "code",
   "execution_count": 5,
   "id": "a858ac68",
   "metadata": {},
   "outputs": [
    {
     "name": "stderr",
     "output_type": "stream",
     "text": [
      "2024-11-14 11:41:23.271068: I tensorflow/core/util/port.cc:113] oneDNN custom operations are on. You may see slightly different numerical results due to floating-point round-off errors from different computation orders. To turn them off, set the environment variable `TF_ENABLE_ONEDNN_OPTS=0`.\n",
      "2024-11-14 11:41:23.303022: E external/local_xla/xla/stream_executor/cuda/cuda_dnn.cc:9261] Unable to register cuDNN factory: Attempting to register factory for plugin cuDNN when one has already been registered\n",
      "2024-11-14 11:41:23.303047: E external/local_xla/xla/stream_executor/cuda/cuda_fft.cc:607] Unable to register cuFFT factory: Attempting to register factory for plugin cuFFT when one has already been registered\n",
      "2024-11-14 11:41:23.304026: E external/local_xla/xla/stream_executor/cuda/cuda_blas.cc:1515] Unable to register cuBLAS factory: Attempting to register factory for plugin cuBLAS when one has already been registered\n",
      "2024-11-14 11:41:23.309507: I tensorflow/core/platform/cpu_feature_guard.cc:182] This TensorFlow binary is optimized to use available CPU instructions in performance-critical operations.\n",
      "To enable the following instructions: AVX2 AVX512F AVX512_VNNI FMA, in other operations, rebuild TensorFlow with the appropriate compiler flags.\n",
      "2024-11-14 11:41:23.930138: W tensorflow/compiler/tf2tensorrt/utils/py_utils.cc:38] TF-TRT Warning: Could not find TensorRT\n"
     ]
    }
   ],
   "source": [
    "from tensorpotential.calculator import TPCalculator"
   ]
  },
  {
   "cell_type": "code",
   "execution_count": 6,
   "id": "085a0340",
   "metadata": {},
   "outputs": [
    {
     "name": "stderr",
     "output_type": "stream",
     "text": [
      "2024-11-14 11:41:25.086244: W tensorflow/core/common_runtime/gpu/gpu_bfc_allocator.cc:47] Overriding orig_value setting because the TF_FORCE_GPU_ALLOW_GROWTH environment variable is set. Original config value was 0.\n",
      "2024-11-14 11:41:25.086379: I tensorflow/core/common_runtime/gpu/gpu_device.cc:1929] Created device /job:localhost/replica:0/task:0/device:GPU:0 with 1817 MB memory:  -> device: 0, name: NVIDIA GeForce RTX 3060, pci bus id: 0000:b3:00.0, compute capability: 8.6\n"
     ]
    }
   ],
   "source": [
    "calc_tp = TPCalculator(\"../1-fit/seed/1/saved_model/\")"
   ]
  },
  {
   "cell_type": "markdown",
   "id": "575b6390",
   "metadata": {},
   "source": [
    "### Ir-FCC"
   ]
  },
  {
   "cell_type": "code",
   "execution_count": 7,
   "id": "aa2d4b21",
   "metadata": {},
   "outputs": [
    {
     "data": {
      "text/plain": [
       "Atoms(symbols='Ir', pbc=True, cell=[[0.0, 1.92, 1.92], [1.92, 0.0, 1.92], [1.92, 1.92, 0.0]])"
      ]
     },
     "execution_count": 7,
     "metadata": {},
     "output_type": "execute_result"
    }
   ],
   "source": [
    "Ir_bulk = bulk(\"Ir\",\"fcc\")\n",
    "Ir_bulk"
   ]
  },
  {
   "cell_type": "code",
   "execution_count": 8,
   "id": "50019dac",
   "metadata": {},
   "outputs": [],
   "source": [
    "Ir_bulk.calc=calc_tp"
   ]
  },
  {
   "cell_type": "code",
   "execution_count": 9,
   "id": "391431c5",
   "metadata": {},
   "outputs": [
    {
     "name": "stderr",
     "output_type": "stream",
     "text": [
      "2024-11-14 11:41:26.365018: I external/local_xla/xla/service/service.cc:168] XLA service 0xf674e60 initialized for platform CUDA (this does not guarantee that XLA will be used). Devices:\n",
      "2024-11-14 11:41:26.365045: I external/local_xla/xla/service/service.cc:176]   StreamExecutor device (0): NVIDIA GeForce RTX 3060, Compute Capability 8.6\n",
      "2024-11-14 11:41:26.604522: I tensorflow/compiler/mlir/tensorflow/utils/dump_mlir_util.cc:269] disabling MLIR crash reproducer, set env var `MLIR_CRASH_REPRODUCER_DIRECTORY` to enable.\n",
      "2024-11-14 11:41:27.158282: I external/local_xla/xla/stream_executor/cuda/cuda_dnn.cc:454] Loaded cuDNN version 8904\n",
      "2024-11-14 11:41:29.736258: I external/local_xla/xla/stream_executor/gpu/asm_compiler.cc:326] ptxas warning : Registers are spilled to local memory in function 'fusion_7', 580 bytes spill stores, 580 bytes spill loads\n",
      "ptxas warning : Registers are spilled to local memory in function 'fusion_259', 1772 bytes spill stores, 1708 bytes spill loads\n",
      "ptxas warning : Registers are spilled to local memory in function '__cuda_sm20_div_f64_slowpath_v2', 4 bytes spill stores, 4 bytes spill loads\n",
      "ptxas warning : Registers are spilled to local memory in function '__cuda_sm20_div_f64_slowpath_v2', 8 bytes spill stores, 8 bytes spill loads\n",
      "\n",
      "WARNING: All log messages before absl::InitializeLog() is called are written to STDERR\n",
      "I0000 00:00:1731580890.007137 1139007 device_compiler.h:186] Compiled cluster using XLA!  This line is logged at most once for the lifetime of the process.\n"
     ]
    },
    {
     "data": {
      "text/plain": [
       "-9.758164191650565"
      ]
     },
     "execution_count": 9,
     "metadata": {},
     "output_type": "execute_result"
    }
   ],
   "source": [
    "Ir_bulk.get_potential_energy()"
   ]
  },
  {
   "cell_type": "code",
   "execution_count": 10,
   "id": "7f3148dc",
   "metadata": {},
   "outputs": [
    {
     "data": {
      "text/plain": [
       "array([ 3.00143611e-02,  3.00143611e-02,  3.00143611e-02,  1.17643465e-17,\n",
       "        8.82325987e-18, -3.13715906e-17])"
      ]
     },
     "execution_count": 10,
     "metadata": {},
     "output_type": "execute_result"
    }
   ],
   "source": [
    "Ir_bulk.get_stress()"
   ]
  },
  {
   "cell_type": "code",
   "execution_count": 11,
   "id": "6af9fd21",
   "metadata": {},
   "outputs": [
    {
     "name": "stdout",
     "output_type": "stream",
     "text": [
      "      Step     Time          Energy         fmax\n",
      "*Force-consistent energies used in optimization.\n",
      "FIRE:    0 11:41:33       -9.758164*       0.4249\n",
      "FIRE:    1 11:41:33       -9.760690*       0.0314\n"
     ]
    },
    {
     "data": {
      "text/plain": [
       "True"
      ]
     },
     "execution_count": 11,
     "metadata": {},
     "output_type": "execute_result"
    }
   ],
   "source": [
    "FIRE(ExpCellFilter(Ir_bulk)).run()"
   ]
  },
  {
   "cell_type": "code",
   "execution_count": null,
   "id": "fa2126db",
   "metadata": {},
   "outputs": [],
   "source": []
  },
  {
   "cell_type": "markdown",
   "id": "427ebfa6",
   "metadata": {},
   "source": [
    "### Ir-FCC(111) surface"
   ]
  },
  {
   "cell_type": "code",
   "execution_count": 12,
   "id": "88535240",
   "metadata": {},
   "outputs": [
    {
     "data": {
      "text/plain": [
       "Atoms(symbols='Ir40', pbc=True, cell=[[5.430580079512685, 0.0, 0.0], [2.7152900397563426, 4.703020306143701, 0.0], [0.0, 0.0, 39.95322530319346]], tags=...)"
      ]
     },
     "execution_count": 12,
     "metadata": {},
     "output_type": "execute_result"
    }
   ],
   "source": [
    "Ir_surface = fcc111(\"Ir\", size=(2,2,10), periodic=True, vacuum=10)\n",
    "Ir_surface"
   ]
  },
  {
   "cell_type": "code",
   "execution_count": 13,
   "id": "bcb927c4",
   "metadata": {},
   "outputs": [],
   "source": [
    "# view(Ir_surface)"
   ]
  },
  {
   "cell_type": "code",
   "execution_count": 14,
   "id": "81236883",
   "metadata": {},
   "outputs": [],
   "source": [
    "Ir_surface.calc=calc_tp"
   ]
  },
  {
   "cell_type": "code",
   "execution_count": 15,
   "id": "342e4577",
   "metadata": {},
   "outputs": [
    {
     "data": {
      "text/plain": [
       "-376.1734471133577"
      ]
     },
     "execution_count": 15,
     "metadata": {},
     "output_type": "execute_result"
    }
   ],
   "source": [
    "Ir_surface.get_potential_energy()"
   ]
  },
  {
   "cell_type": "code",
   "execution_count": 16,
   "id": "911efcaf",
   "metadata": {},
   "outputs": [
    {
     "name": "stdout",
     "output_type": "stream",
     "text": [
      "      Step     Time          Energy         fmax\n",
      "BFGS:    0 11:41:40     -376.173447       31.8111\n",
      "BFGS:    1 11:41:44      -10.433214     1892.0503\n",
      "BFGS:    2 11:41:47     -376.411399       20.2066\n",
      "BFGS:    3 11:41:47     -374.653764       65.2428\n",
      "BFGS:    4 11:41:47     -376.537358        8.0638\n",
      "BFGS:    5 11:41:47     -376.562730        3.2408\n",
      "BFGS:    6 11:41:47     -376.572032        1.0874\n",
      "BFGS:    7 11:41:47     -376.573692        1.2100\n",
      "BFGS:    8 11:41:47     -376.576811        0.3460\n",
      "BFGS:    9 11:41:47     -376.577052        0.0432\n"
     ]
    },
    {
     "data": {
      "text/plain": [
       "True"
      ]
     },
     "execution_count": 16,
     "metadata": {},
     "output_type": "execute_result"
    }
   ],
   "source": [
    "BFGS(ExpCellFilter(Ir_surface)).run()"
   ]
  },
  {
   "cell_type": "markdown",
   "id": "9da1fbb3",
   "metadata": {},
   "source": [
    "Some initial slowdown during the first two steps is due to JIT recompilation of the model, triggered by changes in the number of neighbors. However, thanks to padding, recompilations will only occur when a new padding size is required.\n",
    "\n",
    "You can adjust these padding settings with the following options (at the cost of slightly increased overhead):"
   ]
  },
  {
   "cell_type": "markdown",
   "id": "d6526911",
   "metadata": {},
   "source": [
    "```python\n",
    "calc_tp_with_more_padding = TPCalculator(\"fit/seed/1/saved_model/\",\n",
    "                                         pad_neighbors_fraction=0.2, # pad up to 20% extra neighbours\n",
    "                                         pad_atoms_number=5 # pad up to 5 extra atoms\n",
    "                                        )\n",
    "```"
   ]
  },
  {
   "cell_type": "markdown",
   "id": "656a2448",
   "metadata": {},
   "source": [
    "# CPU: GRACE/FS calculator (with extrapolation grade)"
   ]
  },
  {
   "cell_type": "code",
   "execution_count": 17,
   "id": "23cc2951",
   "metadata": {},
   "outputs": [],
   "source": [
    "from pyace.asecalc import PyGRACEFSCalculator"
   ]
  },
  {
   "cell_type": "code",
   "execution_count": 18,
   "id": "fb9e2926",
   "metadata": {},
   "outputs": [],
   "source": [
    "calc_fs=PyGRACEFSCalculator(\"../1-fit/seed/1/FS_model.yaml\")"
   ]
  },
  {
   "cell_type": "markdown",
   "id": "13ecce18",
   "metadata": {},
   "source": [
    "### Ir-FCC"
   ]
  },
  {
   "cell_type": "code",
   "execution_count": 19,
   "id": "d748b446",
   "metadata": {},
   "outputs": [
    {
     "data": {
      "text/plain": [
       "Atoms(symbols='Ir', pbc=True, cell=[[0.0, 1.92, 1.92], [1.92, 0.0, 1.92], [1.92, 1.92, 0.0]])"
      ]
     },
     "execution_count": 19,
     "metadata": {},
     "output_type": "execute_result"
    }
   ],
   "source": [
    "Ir_bulk = bulk(\"Ir\",\"fcc\")\n",
    "Ir_bulk"
   ]
  },
  {
   "cell_type": "code",
   "execution_count": 20,
   "id": "f196162e",
   "metadata": {},
   "outputs": [],
   "source": [
    "Ir_bulk.calc=calc_fs"
   ]
  },
  {
   "cell_type": "code",
   "execution_count": 21,
   "id": "c5de0612",
   "metadata": {},
   "outputs": [
    {
     "data": {
      "text/plain": [
       "-9.758164191651225"
      ]
     },
     "execution_count": 21,
     "metadata": {},
     "output_type": "execute_result"
    }
   ],
   "source": [
    "Ir_bulk.get_potential_energy()"
   ]
  },
  {
   "cell_type": "code",
   "execution_count": 22,
   "id": "95d270dd",
   "metadata": {},
   "outputs": [
    {
     "data": {
      "text/plain": [
       "array([3.00143609e-02, 3.00143609e-02, 3.00143609e-02, 1.89945178e-18,\n",
       "       9.86489471e-18, 1.59921585e-17])"
      ]
     },
     "execution_count": 22,
     "metadata": {},
     "output_type": "execute_result"
    }
   ],
   "source": [
    "Ir_bulk.get_stress()"
   ]
  },
  {
   "cell_type": "code",
   "execution_count": 23,
   "id": "6bb557d8",
   "metadata": {},
   "outputs": [
    {
     "name": "stdout",
     "output_type": "stream",
     "text": [
      "      Step     Time          Energy         fmax\n",
      "*Force-consistent energies used in optimization.\n",
      "FIRE:    0 11:41:56       -9.758164*       0.4249\n",
      "FIRE:    1 11:41:56       -9.760690*       0.0314\n"
     ]
    },
    {
     "data": {
      "text/plain": [
       "True"
      ]
     },
     "execution_count": 23,
     "metadata": {},
     "output_type": "execute_result"
    }
   ],
   "source": [
    "FIRE(ExpCellFilter(Ir_bulk)).run()"
   ]
  },
  {
   "cell_type": "markdown",
   "id": "20bf46a6",
   "metadata": {},
   "source": [
    "### Ir-FCC(111) surface"
   ]
  },
  {
   "cell_type": "code",
   "execution_count": 24,
   "id": "d2d118d0",
   "metadata": {},
   "outputs": [
    {
     "data": {
      "text/plain": [
       "Atoms(symbols='Ir40', pbc=True, cell=[[5.430580079512685, 0.0, 0.0], [2.7152900397563426, 4.703020306143701, 0.0], [0.0, 0.0, 39.95322530319346]], tags=...)"
      ]
     },
     "execution_count": 24,
     "metadata": {},
     "output_type": "execute_result"
    }
   ],
   "source": [
    "Ir_surface = fcc111(\"Ir\", size=(2,2,10), periodic=True, vacuum=10)\n",
    "Ir_surface"
   ]
  },
  {
   "cell_type": "code",
   "execution_count": 25,
   "id": "682e4381",
   "metadata": {},
   "outputs": [],
   "source": [
    "# view(Ir_surface)"
   ]
  },
  {
   "cell_type": "code",
   "execution_count": 26,
   "id": "218f1c10",
   "metadata": {},
   "outputs": [],
   "source": [
    "Ir_surface.calc=calc_fs"
   ]
  },
  {
   "cell_type": "code",
   "execution_count": 27,
   "id": "03388aa4",
   "metadata": {},
   "outputs": [
    {
     "data": {
      "text/plain": [
       "-376.17344711338245"
      ]
     },
     "execution_count": 27,
     "metadata": {},
     "output_type": "execute_result"
    }
   ],
   "source": [
    "Ir_surface.get_potential_energy()"
   ]
  },
  {
   "cell_type": "code",
   "execution_count": 28,
   "id": "ec002168",
   "metadata": {},
   "outputs": [
    {
     "name": "stdout",
     "output_type": "stream",
     "text": [
      "      Step     Time          Energy         fmax\n",
      "BFGS:    0 11:41:58     -376.173447       31.8111\n",
      "BFGS:    1 11:41:58      -10.433214     1892.0503\n",
      "BFGS:    2 11:41:58     -376.411399       20.2066\n",
      "BFGS:    3 11:41:58     -374.653764       65.2428\n",
      "BFGS:    4 11:41:58     -376.537358        8.0638\n",
      "BFGS:    5 11:41:58     -376.562730        3.2408\n",
      "BFGS:    6 11:41:58     -376.572032        1.0874\n",
      "BFGS:    7 11:41:58     -376.573692        1.2100\n",
      "BFGS:    8 11:41:58     -376.576811        0.3462\n",
      "BFGS:    9 11:41:59     -376.577052        0.0433\n"
     ]
    },
    {
     "data": {
      "text/plain": [
       "True"
      ]
     },
     "execution_count": 28,
     "metadata": {},
     "output_type": "execute_result"
    }
   ],
   "source": [
    "BFGS(ExpCellFilter(Ir_surface)).run()"
   ]
  },
  {
   "cell_type": "markdown",
   "id": "0de42560",
   "metadata": {},
   "source": [
    "## Extrapolation grade gamma"
   ]
  },
  {
   "cell_type": "markdown",
   "id": "daa7f3d7",
   "metadata": {},
   "source": [
    "one need to set active set (ASI), computed previously with `pace_activeset` utility"
   ]
  },
  {
   "cell_type": "code",
   "execution_count": 29,
   "id": "c8892cc5",
   "metadata": {},
   "outputs": [],
   "source": [
    "calc_fs.set_active_set(\"../1-fit/seed/1/FS_model.asi\")"
   ]
  },
  {
   "cell_type": "markdown",
   "id": "d4482cb1",
   "metadata": {},
   "source": [
    "### Ir-FCC"
   ]
  },
  {
   "cell_type": "code",
   "execution_count": 30,
   "id": "e5c90d8c",
   "metadata": {},
   "outputs": [],
   "source": [
    "Ir_bulk.calc=calc_fs"
   ]
  },
  {
   "cell_type": "code",
   "execution_count": 31,
   "id": "34f9f088",
   "metadata": {},
   "outputs": [
    {
     "data": {
      "text/plain": [
       "-9.76068986767721"
      ]
     },
     "execution_count": 31,
     "metadata": {},
     "output_type": "execute_result"
    }
   ],
   "source": [
    "Ir_bulk.get_potential_energy()"
   ]
  },
  {
   "cell_type": "code",
   "execution_count": 32,
   "id": "389577ec",
   "metadata": {},
   "outputs": [
    {
     "data": {
      "text/plain": [
       "array([0.57877347])"
      ]
     },
     "execution_count": 32,
     "metadata": {},
     "output_type": "execute_result"
    }
   ],
   "source": [
    "Ir_bulk.calc.results['gamma']"
   ]
  },
  {
   "cell_type": "markdown",
   "id": "e85c3ec9",
   "metadata": {},
   "source": [
    "bulk atoms are in interpolation regime ($\\gamma<=1$)"
   ]
  },
  {
   "cell_type": "markdown",
   "id": "197e051c",
   "metadata": {},
   "source": [
    "Let us consider E-lattice constant curve with extrapolation grade"
   ]
  },
  {
   "cell_type": "code",
   "execution_count": 33,
   "id": "bcbb9154",
   "metadata": {},
   "outputs": [],
   "source": [
    "a_list=np.linspace(1.0, 8, num=75)\n",
    "\n",
    "energy_list=[]\n",
    "gamma_list=[]\n",
    "\n",
    "for a in a_list:\n",
    "    at = bulk(\"Ir\",\"fcc\",a=a)\n",
    "    at.calc=calc_fs\n",
    "    \n",
    "    e=at.get_potential_energy()\n",
    "    gamma=at.calc.results['gamma'].max()\n",
    "    \n",
    "    energy_list.append(e)\n",
    "    gamma_list.append(gamma)"
   ]
  },
  {
   "cell_type": "code",
   "execution_count": 34,
   "id": "928e743f",
   "metadata": {},
   "outputs": [],
   "source": [
    "gamma_list=np.array(gamma_list)\n",
    "\n",
    "energy_list=np.array(energy_list)\n",
    "\n",
    "mask = gamma_list<=1 # interpolation region"
   ]
  },
  {
   "cell_type": "code",
   "execution_count": 35,
   "id": "6f1c4f21",
   "metadata": {},
   "outputs": [
    {
     "data": {
      "text/plain": [
       "Text(0, 0.5, 'Gamma')"
      ]
     },
     "execution_count": 35,
     "metadata": {},
     "output_type": "execute_result"
    },
    {
     "data": {
      "image/png": "[encoded data removed]",
      "text/plain": [
       "<Figure size 960x720 with 2 Axes>"
      ]
     },
     "metadata": {},
     "output_type": "display_data"
    }
   ],
   "source": [
    "fig, axs= plt.subplots(nrows=2, ncols=1, sharex=True, height_ratios = [2,1], dpi=150)\n",
    "\n",
    "fig.suptitle(\"Ir-FCC\")\n",
    "#### energy ###\n",
    "axs[0].plot(a_list, energy_list, color='black')\n",
    "axs[0].scatter(a_list[mask], energy_list[mask], lw=3, color=\"green\", label='Interpolation (g<=1)')\n",
    "axs[0].scatter(a_list[~mask], energy_list[~mask], lw=3, color=\"red\", label='Extrapolation (g>1)')\n",
    "\n",
    "axs[0].legend()\n",
    "axs[0].set_yscale('symlog')\n",
    "axs[0].set_ylabel(\"Energy, eV/atom\")\n",
    "\n",
    "#### gamma ###\n",
    "axs[1].plot(a_list, gamma_list)\n",
    "axs[1].set_yscale('log');\n",
    "axs[1].set_xlabel(\"Lattice constant, Ang\")\n",
    "\n",
    "\n",
    "axs[1].axhline(1.0, ls='--', color='gray', label='g=1')\n",
    "axs[1].legend()\n",
    "axs[1].set_ylim(0.1, None)\n",
    "axs[1].set_ylabel(\"Gamma\")"
   ]
  },
  {
   "cell_type": "code",
   "execution_count": null,
   "id": "ece4bb6b",
   "metadata": {},
   "outputs": [],
   "source": []
  },
  {
   "cell_type": "markdown",
   "id": "126a2294",
   "metadata": {},
   "source": [
    "### Ir-FCC(111) surface"
   ]
  },
  {
   "cell_type": "code",
   "execution_count": 36,
   "id": "2e61d1ad",
   "metadata": {},
   "outputs": [],
   "source": [
    "Ir_surface.calc=calc_fs"
   ]
  },
  {
   "cell_type": "code",
   "execution_count": 37,
   "id": "acac0db5",
   "metadata": {},
   "outputs": [
    {
     "data": {
      "text/plain": [
       "-376.5770521419114"
      ]
     },
     "execution_count": 37,
     "metadata": {},
     "output_type": "execute_result"
    }
   ],
   "source": [
    "Ir_surface.get_potential_energy()"
   ]
  },
  {
   "cell_type": "code",
   "execution_count": 38,
   "id": "a2f7b408",
   "metadata": {},
   "outputs": [
    {
     "data": {
      "text/plain": [
       "<matplotlib.legend.Legend at 0x7fbb2c199a20>"
      ]
     },
     "execution_count": 38,
     "metadata": {},
     "output_type": "execute_result"
    },
    {
     "data": {
      "image/png": "[encoded data removed]",
      "text/plain": [
       "<Figure size 640x480 with 1 Axes>"
      ]
     },
     "metadata": {},
     "output_type": "display_data"
    }
   ],
   "source": [
    "plt.scatter(Ir_surface.positions[:,2], calc_fs.results['gamma'])\n",
    "plt.xlabel(\"z, A\")\n",
    "plt.ylabel(\"gamma\")\n",
    "plt.axhline(1.0, ls=\"--\", color='gray', label='Interpolation (gamma<=1)')\n",
    "plt.legend()"
   ]
  },
  {
   "cell_type": "markdown",
   "id": "013d6d08",
   "metadata": {},
   "source": [
    "Since our training dataset for this particular tutorial contains only bulk-like structures, surface atoms are in extrapolation regime ($\\gamma>1$), bulk atoms are in interpolation regime ($\\gamma<=1$)"
   ]
  },
  {
   "cell_type": "code",
   "execution_count": 39,
   "id": "d51f7be7",
   "metadata": {},
   "outputs": [
    {
     "data": {
      "text/plain": [
       "Atoms(symbols='Ir40', pbc=True, cell=[[5.383868644286448, -3.053618330288136e-07, 1.1100055624351724e-07], [2.6919340576921247, 4.662595090478068, 9.302107949295722e-06], [8.16640244220394e-07, 7.855203154354398e-05, 39.835806675452005]], tags=..., calculator=PyGRACEFSCalculator(...))"
      ]
     },
     "execution_count": 39,
     "metadata": {},
     "output_type": "execute_result"
    }
   ],
   "source": [
    "Ir_surface"
   ]
  },
  {
   "cell_type": "markdown",
   "id": "31a1959d",
   "metadata": {},
   "source": [
    "Save Ir_surface for LAMMPS"
   ]
  },
  {
   "cell_type": "code",
   "execution_count": 40,
   "id": "16e6a2cb",
   "metadata": {},
   "outputs": [],
   "source": [
    "from ase.io import write"
   ]
  },
  {
   "cell_type": "code",
   "execution_count": 41,
   "id": "cce1dbc8",
   "metadata": {},
   "outputs": [],
   "source": [
    "write(\"../3-lammps/Ir_fcc_111_surf.lammps-data\", Ir_surface, format='lammps-data', specorder=['Ir'])"
   ]
  },
  {
   "cell_type": "code",
   "execution_count": null,
   "id": "0205d248",
   "metadata": {},
   "outputs": [],
   "source": []
  }
 ],
 "metadata": {
  "kernelspec": {
   "display_name": "fast-tp2",
   "language": "python",
   "name": "fast-tp2"
  },
  "language_info": {
   "codemirror_mode": {
    "name": "ipython",
    "version": 3
   },
   "file_extension": ".py",
   "mimetype": "text/x-python",
   "name": "python",
   "nbconvert_exporter": "python",
   "pygments_lexer": "ipython3",
   "version": "3.10.13"
  }
 },
 "nbformat": 4,
 "nbformat_minor": 5
}
